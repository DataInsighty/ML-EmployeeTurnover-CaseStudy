{
 "cells": [
  {
   "cell_type": "code",
   "execution_count": 3,
   "id": "37f2149c",
   "metadata": {},
   "outputs": [
    {
     "name": "stdout",
     "output_type": "stream",
     "text": [
      "   Job_itself  Pay  Promotion  Supervisor  Coworker  Working Condition  \\\n",
      "0           2    2          1           3         5                  3   \n",
      "1           1    2          1           3         3                  3   \n",
      "2           2    3          2           3         4                  3   \n",
      "3           3    4          4           5         3                  3   \n",
      "4           4    4          4           4         4                  4   \n",
      "\n",
      "   Intent_to_leave  \n",
      "0                2  \n",
      "1                3  \n",
      "2                3  \n",
      "3                4  \n",
      "4                2  \n"
     ]
    }
   ],
   "source": [
    "import pandas as pd\n",
    "\n",
    "\n",
    "# Read the Excel file into a DataFrame\n",
    "data = pd.read_excel('C:/Users/Admin/Desktop/Internship SLT/Research - Employee Turnover/Dataset_Final.xlsx')\n",
    "\n",
    "# Display the first few rows of the DataFrame to verify the import\n",
    "print(data.head())\n"
   ]
  },
  {
   "cell_type": "code",
   "execution_count": null,
   "id": "2bacedfd",
   "metadata": {},
   "outputs": [],
   "source": [
    "!pip install statsmodels.genmod.ordinal_r"
   ]
  },
  {
   "cell_type": "code",
   "execution_count": null,
   "id": "008b4823",
   "metadata": {},
   "outputs": [],
   "source": [
    "!pip install statsmodels"
   ]
  },
  {
   "cell_type": "code",
   "execution_count": null,
   "id": "320dbfca",
   "metadata": {},
   "outputs": [],
   "source": [
    "!pip install statsmodels --upgrade"
   ]
  },
  {
   "cell_type": "code",
   "execution_count": 6,
   "id": "3e638238",
   "metadata": {},
   "outputs": [
    {
     "name": "stdout",
     "output_type": "stream",
     "text": [
      "Requirement already satisfied: numpy in c:\\users\\admin\\anaconda3\\lib\\site-packages (1.20.3)\n",
      "Requirement already satisfied: pandas in c:\\users\\admin\\anaconda3\\lib\\site-packages (1.3.4)\n",
      "Requirement already satisfied: statsmodels in c:\\users\\admin\\anaconda3\\lib\\site-packages (0.14.0)\n",
      "Requirement already satisfied: python-dateutil>=2.7.3 in c:\\users\\admin\\anaconda3\\lib\\site-packages (from pandas) (2.8.2)\n",
      "Requirement already satisfied: pytz>=2017.3 in c:\\users\\admin\\anaconda3\\lib\\site-packages (from pandas) (2021.3)\n",
      "Requirement already satisfied: scipy!=1.9.2,>=1.4 in c:\\users\\admin\\anaconda3\\lib\\site-packages (from statsmodels) (1.7.1)\n",
      "Requirement already satisfied: patsy>=0.5.2 in c:\\users\\admin\\anaconda3\\lib\\site-packages (from statsmodels) (0.5.2)\n",
      "Requirement already satisfied: packaging>=21.3 in c:\\users\\admin\\anaconda3\\lib\\site-packages (from statsmodels) (23.1)\n",
      "Requirement already satisfied: six in c:\\users\\admin\\anaconda3\\lib\\site-packages (from patsy>=0.5.2->statsmodels) (1.16.0)\n",
      "Note: you may need to restart the kernel to use updated packages.\n"
     ]
    }
   ],
   "source": [
    "pip install numpy pandas statsmodels\n"
   ]
  },
  {
   "cell_type": "code",
   "execution_count": 7,
   "id": "5a6c5387",
   "metadata": {},
   "outputs": [
    {
     "name": "stdout",
     "output_type": "stream",
     "text": [
      "Collecting mord\n",
      "  Downloading mord-0.7.tar.gz (8.6 kB)\n",
      "Building wheels for collected packages: mord\n",
      "  Building wheel for mord (setup.py): started\n",
      "  Building wheel for mord (setup.py): finished with status 'done'\n",
      "  Created wheel for mord: filename=mord-0.7-py3-none-any.whl size=9902 sha256=cdba48c93b002132236b6cda653925e08dc37d8d47c02371f4832ad38257683c\n",
      "  Stored in directory: c:\\users\\admin\\appdata\\local\\pip\\cache\\wheels\\bb\\62\\6d\\f94a319e6f1bd5a8c0dd093afdd390b0e361710ed06ba7f3e3\n",
      "Successfully built mord\n",
      "Installing collected packages: mord\n",
      "Successfully installed mord-0.7\n",
      "Note: you may need to restart the kernel to use updated packages.\n"
     ]
    }
   ],
   "source": [
    "pip install mord\n"
   ]
  },
  {
   "cell_type": "code",
   "execution_count": 23,
   "id": "fbd6bec7",
   "metadata": {},
   "outputs": [
    {
     "name": "stdout",
     "output_type": "stream",
     "text": [
      "Model Accuracy: -0.7894736842105263\n"
     ]
    }
   ],
   "source": [
    "import pandas as pd\n",
    "from sklearn.model_selection import train_test_split\n",
    "from mord import LogisticAT\n",
    "\n",
    "\n",
    "\n",
    "# Define predictors and response variables\n",
    "predictors = ['Job_itself', 'Pay', 'Promotion', 'Supervisor', 'Coworker','Working Condition']\n",
    "response = 'Intent_to_leave'\n",
    "\n",
    "\n",
    "# Prepare the data\n",
    "X = data[predictors]\n",
    "y = data[response]\n",
    "\n",
    "# Split the data into training and testing sets\n",
    "X_train, X_test, y_train, y_test = train_test_split(X, y, test_size=0.2, random_state=42\n",
    "                                                   )\n",
    "\n",
    "# Fit the ordinal logistic regression model using LogisticAT\n",
    "model = LogisticAT(alpha=0)  # Specify alpha value as needed\n",
    "model.fit(X_train, y_train)\n",
    "\n",
    "# Evaluate the model on the test set\n",
    "accuracy = model.score(X_test, y_test)\n",
    "print(f\"Model Accuracy: {accuracy}\")\n"
   ]
  },
  {
   "cell_type": "code",
   "execution_count": 9,
   "id": "9d87dde7",
   "metadata": {},
   "outputs": [
    {
     "name": "stdout",
     "output_type": "stream",
     "text": [
      "Predicted Ordinal Categories:\n",
      "[4 4 3 4 3 5 4 4 4 3 4 4 3 3 3 3 4 3 4]\n"
     ]
    }
   ],
   "source": [
    "# Predict the ordinal categories for the test set\n",
    "predicted_categories = model.predict(X_test)\n",
    "\n",
    "# Display the predicted ordinal categories\n",
    "print(\"Predicted Ordinal Categories:\")\n",
    "print(predicted_categories)"
   ]
  },
  {
   "cell_type": "code",
   "execution_count": 10,
   "id": "daeef345",
   "metadata": {},
   "outputs": [
    {
     "name": "stdout",
     "output_type": "stream",
     "text": [
      "    Job_itself  Pay  Promotion  Supervisor  Coworker  Working Condition  \\\n",
      "0            2    2          1           3         5                  3   \n",
      "1            1    2          1           3         3                  3   \n",
      "2            2    3          2           3         4                  3   \n",
      "3            3    4          4           5         3                  3   \n",
      "4            4    4          4           4         4                  4   \n",
      "..         ...  ...        ...         ...       ...                ...   \n",
      "87           2    2          2           1         2                  4   \n",
      "88           4    3          3           4         2                  2   \n",
      "89           3    4          4           5         4                  4   \n",
      "90           4    4          4           3         3                  4   \n",
      "91           1    2          1           2         3                  1   \n",
      "\n",
      "    Intent_to_leave  predicted_intent  \n",
      "0                 2                 3  \n",
      "1                 3                 3  \n",
      "2                 3                 3  \n",
      "3                 4                 3  \n",
      "4                 2                 3  \n",
      "..              ...               ...  \n",
      "87                3                 3  \n",
      "88                2                 3  \n",
      "89                2                 3  \n",
      "90                3                 3  \n",
      "91                4                 4  \n",
      "\n",
      "[92 rows x 8 columns]\n"
     ]
    }
   ],
   "source": [
    "# Predict the ordinal categories for the entire dataset\n",
    "data['predicted_intent'] = model.predict(X)\n",
    "\n",
    "# Display the updated DataFrame\n",
    "print(data)"
   ]
  },
  {
   "cell_type": "code",
   "execution_count": 11,
   "id": "c18c8cb3",
   "metadata": {},
   "outputs": [
    {
     "name": "stdout",
     "output_type": "stream",
     "text": [
      "DataFrame with predicted intent saved to output_file_employee_intent.xlsx\n"
     ]
    }
   ],
   "source": [
    "# Export the DataFrame to an Excel file\n",
    "output_file_path = 'output_file_employee_intent.xlsx'  # Replace with your desired output file path\n",
    "data.to_excel(output_file_path, index=False)\n",
    "\n",
    "print(f\"DataFrame with predicted intent saved to {output_file_path}\")"
   ]
  },
  {
   "cell_type": "code",
   "execution_count": 26,
   "id": "ad738ffb",
   "metadata": {},
   "outputs": [
    {
     "name": "stdout",
     "output_type": "stream",
     "text": [
      "             Feature  Importance (%)\n",
      "0         Job_itself       21.147023\n",
      "3         Supervisor       19.721769\n",
      "5  Working Condition       17.786511\n",
      "1                Pay       15.250122\n",
      "4           Coworker       13.541536\n",
      "2          Promotion       12.553040\n"
     ]
    }
   ],
   "source": [
    "import pandas as pd\n",
    "from sklearn.model_selection import train_test_split\n",
    "from sklearn.ensemble import RandomForestClassifier\n",
    "\n",
    "# Define predictors and response variables\n",
    "predictors = ['Job_itself', 'Pay', 'Promotion', 'Supervisor', 'Coworker','Working Condition']\n",
    "response = 'Intent_to_leave'\n",
    "# Prepare the data\n",
    "X = data[predictors]\n",
    "y = data[response]\n",
    "\n",
    "# Split the data into training and testing sets\n",
    "X_train, X_test, y_train, y_test = train_test_split(X, y, test_size=0.2, random_state=42)\n",
    "\n",
    "# Fit a Random Forest classifier\n",
    "model = RandomForestClassifier(random_state=42)\n",
    "model.fit(X_train, y_train)\n",
    "\n",
    "# Get feature importances\n",
    "feature_importances = model.feature_importances_\n",
    "\n",
    "# Calculate total importance sum\n",
    "total_importance = sum(feature_importances)\n",
    "\n",
    "# Calculate feature importances as percentages\n",
    "feature_importances_percent = (feature_importances / total_importance) * 100\n",
    "\n",
    "# Create a DataFrame to display feature importances as percentages\n",
    "importance_df = pd.DataFrame({'Feature': predictors, 'Importance (%)': feature_importances_percent})\n",
    "\n",
    "# Sort the DataFrame by importance\n",
    "importance_df = importance_df.sort_values(by='Importance (%)', ascending=False)\n",
    "\n",
    "# Display the sorted feature importances as percentages\n",
    "print(importance_df)\n",
    "\n",
    "\n",
    "\n"
   ]
  },
  {
   "cell_type": "code",
   "execution_count": null,
   "id": "11d613bb",
   "metadata": {},
   "outputs": [],
   "source": []
  }
 ],
 "metadata": {
  "kernelspec": {
   "display_name": "Python 3 (ipykernel)",
   "language": "python",
   "name": "python3"
  },
  "language_info": {
   "codemirror_mode": {
    "name": "ipython",
    "version": 3
   },
   "file_extension": ".py",
   "mimetype": "text/x-python",
   "name": "python",
   "nbconvert_exporter": "python",
   "pygments_lexer": "ipython3",
   "version": "3.9.7"
  }
 },
 "nbformat": 4,
 "nbformat_minor": 5
}
